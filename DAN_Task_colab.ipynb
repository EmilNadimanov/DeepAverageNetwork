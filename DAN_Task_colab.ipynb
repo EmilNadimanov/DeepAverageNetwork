{
  "nbformat": 4,
  "nbformat_minor": 5,
  "metadata": {
    "kernelspec": {
      "display_name": "venv",
      "language": "python",
      "name": "venv"
    },
    "language_info": {
      "codemirror_mode": {
        "name": "ipython",
        "version": 3
      },
      "file_extension": ".py",
      "mimetype": "text/x-python",
      "name": "python",
      "nbconvert_exporter": "python",
      "pygments_lexer": "ipython3",
      "version": "3.9.7"
    },
    "colab": {
      "name": "DAN Task.ipynb",
      "provenance": [],
      "collapsed_sections": []
    },
    "accelerator": "GPU"
  },
  "cells": [
    {
      "cell_type": "code",
      "metadata": {
        "colab": {
          "base_uri": "https://localhost:8080/"
        },
        "id": "Krjm0dSxlJti",
        "outputId": "36a91e2f-b122-42fb-e8e7-35e92ba40002"
      },
      "source": [
        "!pip install datasets"
      ],
      "id": "Krjm0dSxlJti",
      "execution_count": 56,
      "outputs": [
        {
          "output_type": "stream",
          "name": "stdout",
          "text": [
            "Requirement already satisfied: datasets in /usr/local/lib/python3.7/dist-packages (1.16.1)\n",
            "Requirement already satisfied: tqdm>=4.62.1 in /usr/local/lib/python3.7/dist-packages (from datasets) (4.62.3)\n",
            "Requirement already satisfied: numpy>=1.17 in /usr/local/lib/python3.7/dist-packages (from datasets) (1.19.5)\n",
            "Requirement already satisfied: aiohttp in /usr/local/lib/python3.7/dist-packages (from datasets) (3.8.1)\n",
            "Requirement already satisfied: xxhash in /usr/local/lib/python3.7/dist-packages (from datasets) (2.0.2)\n",
            "Requirement already satisfied: fsspec[http]>=2021.05.0 in /usr/local/lib/python3.7/dist-packages (from datasets) (2021.11.1)\n",
            "Requirement already satisfied: pandas in /usr/local/lib/python3.7/dist-packages (from datasets) (1.1.5)\n",
            "Requirement already satisfied: pyarrow!=4.0.0,>=3.0.0 in /usr/local/lib/python3.7/dist-packages (from datasets) (3.0.0)\n",
            "Requirement already satisfied: multiprocess in /usr/local/lib/python3.7/dist-packages (from datasets) (0.70.12.2)\n",
            "Requirement already satisfied: huggingface-hub<1.0.0,>=0.1.0 in /usr/local/lib/python3.7/dist-packages (from datasets) (0.1.2)\n",
            "Requirement already satisfied: requests>=2.19.0 in /usr/local/lib/python3.7/dist-packages (from datasets) (2.23.0)\n",
            "Requirement already satisfied: packaging in /usr/local/lib/python3.7/dist-packages (from datasets) (21.3)\n",
            "Requirement already satisfied: dill in /usr/local/lib/python3.7/dist-packages (from datasets) (0.3.4)\n",
            "Requirement already satisfied: importlib-metadata in /usr/local/lib/python3.7/dist-packages (from datasets) (4.8.2)\n",
            "Requirement already satisfied: filelock in /usr/local/lib/python3.7/dist-packages (from huggingface-hub<1.0.0,>=0.1.0->datasets) (3.4.0)\n",
            "Requirement already satisfied: typing-extensions>=3.7.4.3 in /usr/local/lib/python3.7/dist-packages (from huggingface-hub<1.0.0,>=0.1.0->datasets) (3.10.0.2)\n",
            "Requirement already satisfied: pyyaml in /usr/local/lib/python3.7/dist-packages (from huggingface-hub<1.0.0,>=0.1.0->datasets) (3.13)\n",
            "Requirement already satisfied: pyparsing!=3.0.5,>=2.0.2 in /usr/local/lib/python3.7/dist-packages (from packaging->datasets) (3.0.6)\n",
            "Requirement already satisfied: certifi>=2017.4.17 in /usr/local/lib/python3.7/dist-packages (from requests>=2.19.0->datasets) (2021.10.8)\n",
            "Requirement already satisfied: chardet<4,>=3.0.2 in /usr/local/lib/python3.7/dist-packages (from requests>=2.19.0->datasets) (3.0.4)\n",
            "Requirement already satisfied: urllib3!=1.25.0,!=1.25.1,<1.26,>=1.21.1 in /usr/local/lib/python3.7/dist-packages (from requests>=2.19.0->datasets) (1.24.3)\n",
            "Requirement already satisfied: idna<3,>=2.5 in /usr/local/lib/python3.7/dist-packages (from requests>=2.19.0->datasets) (2.10)\n",
            "Requirement already satisfied: multidict<7.0,>=4.5 in /usr/local/lib/python3.7/dist-packages (from aiohttp->datasets) (5.2.0)\n",
            "Requirement already satisfied: yarl<2.0,>=1.0 in /usr/local/lib/python3.7/dist-packages (from aiohttp->datasets) (1.7.2)\n",
            "Requirement already satisfied: asynctest==0.13.0 in /usr/local/lib/python3.7/dist-packages (from aiohttp->datasets) (0.13.0)\n",
            "Requirement already satisfied: charset-normalizer<3.0,>=2.0 in /usr/local/lib/python3.7/dist-packages (from aiohttp->datasets) (2.0.7)\n",
            "Requirement already satisfied: aiosignal>=1.1.2 in /usr/local/lib/python3.7/dist-packages (from aiohttp->datasets) (1.2.0)\n",
            "Requirement already satisfied: frozenlist>=1.1.1 in /usr/local/lib/python3.7/dist-packages (from aiohttp->datasets) (1.2.0)\n",
            "Requirement already satisfied: async-timeout<5.0,>=4.0.0a3 in /usr/local/lib/python3.7/dist-packages (from aiohttp->datasets) (4.0.1)\n",
            "Requirement already satisfied: attrs>=17.3.0 in /usr/local/lib/python3.7/dist-packages (from aiohttp->datasets) (21.2.0)\n",
            "Requirement already satisfied: zipp>=0.5 in /usr/local/lib/python3.7/dist-packages (from importlib-metadata->datasets) (3.6.0)\n",
            "Requirement already satisfied: python-dateutil>=2.7.3 in /usr/local/lib/python3.7/dist-packages (from pandas->datasets) (2.8.2)\n",
            "Requirement already satisfied: pytz>=2017.2 in /usr/local/lib/python3.7/dist-packages (from pandas->datasets) (2018.9)\n",
            "Requirement already satisfied: six>=1.5 in /usr/local/lib/python3.7/dist-packages (from python-dateutil>=2.7.3->pandas->datasets) (1.15.0)\n"
          ]
        }
      ]
    },
    {
      "cell_type": "code",
      "metadata": {
        "id": "7f9c64fb"
      },
      "source": [
        "from typing import Dict, List\n",
        "\n",
        "import matplotlib.pyplot as plt\n",
        "import numpy as np\n",
        "import pandas as pd\n",
        "import seaborn as sns\n",
        "import torch\n",
        "\n",
        "from datasets import load_dataset\n",
        "from nltk.tokenize import ToktokTokenizer\n",
        "from sklearn.metrics import f1_score\n",
        "from torch import nn\n",
        "from torch.utils.data import DataLoader\n",
        "from tqdm import tqdm"
      ],
      "id": "7f9c64fb",
      "execution_count": 57,
      "outputs": []
    },
    {
      "cell_type": "code",
      "metadata": {
        "id": "13cebd92"
      },
      "source": [
        "device = torch.device('cuda' if torch.cuda.is_available() else 'cpu')"
      ],
      "id": "13cebd92",
      "execution_count": 58,
      "outputs": []
    },
    {
      "cell_type": "markdown",
      "metadata": {
        "id": "102d7074"
      },
      "source": [
        "# Deep Average Network для определения сентимента "
      ],
      "id": "102d7074"
    },
    {
      "cell_type": "markdown",
      "metadata": {
        "id": "46d972fe"
      },
      "source": [
        "В этой домашке мы будет классифицировать твиты на 3 тональности.  \n",
        "Вы будете использовать предобученные эмбеддинги слов, так что для начала обязательно нужно посмотреть [туториал по их использованию](https://github.com/BobaZooba/DeepNLP/blob/master/Tutorials/Word%20vectors%20%26%20Data%20Loading.ipynb).\n",
        "\n",
        "Наши классы:  \n",
        "\n",
        "Индекс | Sentiment  \n",
        "-- | --  \n",
        "0 | negative  \n",
        "1 | neutral  \n",
        "2 | positive  "
      ],
      "id": "46d972fe"
    },
    {
      "cell_type": "markdown",
      "metadata": {
        "id": "55010212"
      },
      "source": [
        "Вам предстоит реализовать такую модель:\n",
        "![Архитектура модели DAN](https://www.researchgate.net/profile/Shervin-Minaee/publication/340523298/figure/fig1/AS:878252264550411@1586403065555/The-architecture-of-the-Deep-Average-Network-DAN-10.ppm)\n",
        "\n",
        "Что она из себя представляет:\n",
        "- Мы подаем в нее индексы слов\n",
        "- Переводим индексы слов в эмбеддинги\n",
        "- Усредняем эмбеддинги\n",
        "- Пропускаем усредненные эмбеддинги через `Multilayer Perceptron`\n",
        "\n",
        "В этой домашке вам предстоит:\n",
        "- Перевести тексты в матрицы с индексами токенов\n",
        "- Реализовать модель\n",
        "- Обучить ее\n",
        "- Понять хорошо ли вы это сделали\n",
        "\n",
        "Это очень важная модель, потому что она очень простая и показывает достаточно высокие метрики. В дальнейшем на работе советую использовать такую модель как бейзлайн. И в качестве эмбеддингов слов взять эмбеддинги от берта/роберты/тд."
      ],
      "id": "55010212"
    },
    {
      "cell_type": "markdown",
      "metadata": {
        "id": "65faf753"
      },
      "source": [
        "## 🤗 Datasets\n",
        "В этом туториале мы будем использовать подготовленные данные из библиотеки [datasets](https://github.com/huggingface/datasets). Мы вряд ли еще будем пользоваться этой библиотекой, так как нам будет важно самим подготавливать данные. Во-первых, для простоты, во-вторых, здесь есть достаточно неплохие практики. [Здесь](https://huggingface.co/datasets) вы сможете найти достаточно большое количество различных датасетов. Возможно, когда-нибудь они вам пригодятся."
      ],
      "id": "65faf753"
    },
    {
      "cell_type": "markdown",
      "metadata": {
        "id": "5927f02a"
      },
      "source": [
        "## Загрузите эмбеддинги слов\n",
        "Реализуйте функцию по загрузке эмбеддингов из файла. Она должна отдавать словарь слов и `np.array`\n",
        "Формат словаря:\n",
        "```python\n",
        "{\n",
        "    'aabra': 0,\n",
        "    ...,\n",
        "    'mom': 6546,\n",
        "    ...\n",
        "    'xyz': 100355\n",
        "}\n",
        "```\n",
        "Формат матрицы эмбеддингов:\n",
        "```python\n",
        "array([[0.44442278, 0.28644582, 0.04357426, ..., 0.9425766 , 0.02024289,\n",
        "        0.88456545],\n",
        "       [0.77599317, 0.35188237, 0.54801261, ..., 0.91134102, 0.88599103,\n",
        "        0.88068835],\n",
        "       [0.68071886, 0.29352313, 0.95952505, ..., 0.19127958, 0.97723054,\n",
        "        0.36294011],\n",
        "       ...,\n",
        "       [0.03589378, 0.85429694, 0.33437761, ..., 0.39784873, 0.80368014,\n",
        "        0.76368042],\n",
        "       [0.01498725, 0.78155695, 0.80372969, ..., 0.82051826, 0.42314861,\n",
        "        0.18655465],\n",
        "       [0.69263802, 0.82090775, 0.27150426, ..., 0.86582747, 0.40896573,\n",
        "        0.33423976]])\n",
        "```\n",
        "\n",
        "Количество строк в матрице эмбеддингов должно совпадать с размером словаря, то есть для каждого токена должен быть свой эмбеддинг. По параметру `num_tokens` должно брать не более указано в этом параметре количество токенов в словарь и матрицу эмбеддингов."
      ],
      "id": "5927f02a"
    },
    {
      "cell_type": "code",
      "metadata": {
        "id": "e15a9f7c"
      },
      "source": [
        "def load_embeddings(path, num_tokens=100_000):\n",
        "    \"\"\"\n",
        "    Считаем, что паддинг токен - это PAD, токен неизвестного слова - это UNK\n",
        "    \"\"\"\n",
        "\n",
        "    ...\n",
        "    \n",
        "    vocab = {\n",
        "        \"<PAD>\": 0,\n",
        "        \"<UNK>\": 1\n",
        "    }\n",
        "    \n",
        "    \n",
        "    with open(path, \"r\") as file:\n",
        "        vocab_size, emb_dim = file.readline().strip().split()\n",
        "        vocab_size, emb_dim = (int(vocab_size), int(emb_dim))\n",
        "        num_tokens = vocab_size \\\n",
        "                        if num_tokens is None or num_tokens <= 2 \\\n",
        "                        else num_tokens\n",
        "        embeddings = [\n",
        "            np.zeros(emb_dim), \n",
        "            np.ones(emb_dim)\n",
        "        ]\n",
        "        \n",
        "        for line in tqdm(file):\n",
        "            parts = line.strip().split()\n",
        "            token = \" \".join(parts[:-emb_dim]).lower()\n",
        "            if token in vocab:\n",
        "                continue\n",
        "            word_vector = list(map(float, parts[-emb_dim:]))\n",
        "            word_vector = np.array(word_vector)\n",
        "            vocab[token] = len(vocab)\n",
        "            embeddings.append(word_vector)\n",
        "            \n",
        "            if len(vocab) >= num_tokens:\n",
        "                break\n",
        "                \n",
        "    embeddings = np.stack(embeddings)\n",
        "    \n",
        "    if embeddings.shape[0] != len(vocab):\n",
        "        raise Exception(\"Dimensionality crisis, prepare for an explosion!!!!\")\n",
        "    return vocab, embeddings"
      ],
      "id": "e15a9f7c",
      "execution_count": 59,
      "outputs": []
    },
    {
      "cell_type": "code",
      "metadata": {
        "id": "cebc3b1b"
      },
      "source": [
        "#!wget https://dl.fbaipublicfiles.com/fasttext/vectors-crawl/cc.en.300.vec.gz\n",
        "#!gunzip cc.en.300.vec.gz"
      ],
      "id": "cebc3b1b",
      "execution_count": 60,
      "outputs": []
    },
    {
      "cell_type": "code",
      "metadata": {
        "colab": {
          "base_uri": "https://localhost:8080/"
        },
        "id": "6cf71b8d",
        "outputId": "240eb0e7-f6e7-4dae-ab96-94a458061b65"
      },
      "source": [
        "vocab, embeddings = load_embeddings(\n",
        "    path='cc.en.300.vec',\n",
        "    num_tokens=100_000\n",
        ")"
      ],
      "id": "6cf71b8d",
      "execution_count": 61,
      "outputs": [
        {
          "output_type": "stream",
          "name": "stderr",
          "text": [
            "130985it [00:10, 12587.15it/s]\n"
          ]
        }
      ]
    },
    {
      "cell_type": "markdown",
      "metadata": {
        "id": "c46b2b68"
      },
      "source": [
        "## Загружаем данные из библиотеки\n",
        "Мы сразу получим `torch.utils.data.Dataset`, который сможем передать в `torch.utils.data.DataLoader`"
      ],
      "id": "c46b2b68"
    },
    {
      "cell_type": "code",
      "metadata": {
        "colab": {
          "base_uri": "https://localhost:8080/"
        },
        "id": "e54fdaa8",
        "outputId": "64d1c702-e5d2-422b-b548-f39c43c64685"
      },
      "source": [
        "dataset_path = \"tweet_eval\"\n",
        "dataset_name = \"sentiment\"\n",
        "\n",
        "train_dataset = load_dataset(path=dataset_path, name=dataset_name, split=\"train\")\n",
        "valid_dataset = load_dataset(path=dataset_path, name=dataset_name, split=\"validation\")\n",
        "test_dataset = load_dataset(path=dataset_path, name=dataset_name, split=\"test\")"
      ],
      "id": "e54fdaa8",
      "execution_count": 62,
      "outputs": [
        {
          "output_type": "stream",
          "name": "stderr",
          "text": [
            "Reusing dataset tweet_eval (/root/.cache/huggingface/datasets/tweet_eval/sentiment/1.1.0/12aee5282b8784f3e95459466db4cdf45c6bf49719c25cdb0743d71ed0410343)\n",
            "Reusing dataset tweet_eval (/root/.cache/huggingface/datasets/tweet_eval/sentiment/1.1.0/12aee5282b8784f3e95459466db4cdf45c6bf49719c25cdb0743d71ed0410343)\n",
            "Reusing dataset tweet_eval (/root/.cache/huggingface/datasets/tweet_eval/sentiment/1.1.0/12aee5282b8784f3e95459466db4cdf45c6bf49719c25cdb0743d71ed0410343)\n"
          ]
        }
      ]
    },
    {
      "cell_type": "markdown",
      "metadata": {
        "id": "ad4a0650"
      },
      "source": [
        "## torch.utils.data.DataLoader"
      ],
      "id": "ad4a0650"
    },
    {
      "cell_type": "code",
      "metadata": {
        "id": "dc742027"
      },
      "source": [
        "train_loader = DataLoader(train_dataset, batch_size=2, shuffle=True)\n",
        "valid_loader = DataLoader(valid_dataset, batch_size=2, shuffle=False)\n",
        "test_loader = DataLoader(test_dataset, batch_size=2, shuffle=False)"
      ],
      "id": "dc742027",
      "execution_count": 63,
      "outputs": []
    },
    {
      "cell_type": "markdown",
      "metadata": {
        "id": "e9012ae5"
      },
      "source": [
        "## Посмотрим что отдает нам `Loader`\n",
        "Это батч формата:\n",
        "```python\n",
        "batch = {\n",
        "    \"text\": [\n",
        "        \"text1\",\n",
        "        \"text2\",\n",
        "        ...,\n",
        "        \"textn\"\n",
        "    ],\n",
        "    \"label\": tensor([\n",
        "        1,\n",
        "        1,\n",
        "        ...,\n",
        "        0\n",
        "    ])\n",
        "}\n",
        "```\n",
        "То есть у нас есть словарь с двумя ключами `text` и `label`, где хранится n примеров. То есть для 5-го примера в батче текст будет храниться в `batch[\"text\"][5]`, а индекс класса будет храниться в `batch[\"label\"][5]`."
      ],
      "id": "e9012ae5"
    },
    {
      "cell_type": "code",
      "metadata": {
        "colab": {
          "base_uri": "https://localhost:8080/"
        },
        "id": "49bf6b50",
        "outputId": "c165f9ec-20e9-4364-8a08-24844d35768f"
      },
      "source": [
        "for batch in train_loader:\n",
        "    break\n",
        "\n",
        "batch"
      ],
      "id": "49bf6b50",
      "execution_count": 64,
      "outputs": [
        {
          "output_type": "execute_result",
          "data": {
            "text/plain": [
              "{'label': tensor([0, 1]),\n",
              " 'text': ['\"Oomf is gay. He may not know it yet, but I do lol\"',\n",
              "  '\"As for Niall and Lottie dating, 1st it\\'s just a pic LOL, 2nd remember the boys said they will never let their sisters date the other members\"']}"
            ]
          },
          "metadata": {},
          "execution_count": 64
        }
      ]
    },
    {
      "cell_type": "markdown",
      "metadata": {
        "id": "b0b9f0e6"
      },
      "source": [
        "## Collate\n",
        "Сейчас перед нами стоит проблема: мы получаем тексты в виде строк, а нам нужны тензоры (матрицы) с индексами токенов, к тому же нам нужно западить последовательности токенов, чтобы все сложить в торчовую матрицу. Мы можем сделать это двумя способами:\n",
        "- Достать из `train/valid/test_dataset` данные и написать свой `Dataset`, где внутри будет токенизировать текст, токены будут переводиться в индексы и затем последовательность будет падиться до нужной длины\n",
        "- Сделать функцию, которая бы дополнительно обрабатывали наши батчи. Она вставляется в `DataLoader(collate_fn=<ВАША_ФУНКЦИЯ>)`"
      ],
      "id": "b0b9f0e6"
    },
    {
      "cell_type": "markdown",
      "metadata": {
        "id": "d03b0f2e"
      },
      "source": [
        "## Если вы хотите сделать свой `Dataset`\n",
        "То вы можете достать данные таким образом."
      ],
      "id": "d03b0f2e"
    },
    {
      "cell_type": "code",
      "metadata": {
        "colab": {
          "base_uri": "https://localhost:8080/"
        },
        "id": "26771f88",
        "outputId": "3e2b128c-635c-4b73-e540-cfc8ba9ed7c4"
      },
      "source": [
        "len(train_dataset[\"text\"]), len(train_dataset[\"label\"])"
      ],
      "id": "26771f88",
      "execution_count": 65,
      "outputs": [
        {
          "output_type": "execute_result",
          "data": {
            "text/plain": [
              "(45615, 45615)"
            ]
          },
          "metadata": {},
          "execution_count": 65
        }
      ]
    },
    {
      "cell_type": "code",
      "metadata": {
        "colab": {
          "base_uri": "https://localhost:8080/"
        },
        "id": "f25200be",
        "outputId": "0bda965a-26ba-4753-fc28-a697fb8afc0e"
      },
      "source": [
        "train_dataset[\"text\"][:2]"
      ],
      "id": "f25200be",
      "execution_count": 66,
      "outputs": [
        {
          "output_type": "execute_result",
          "data": {
            "text/plain": [
              "['\"QT @user In the original draft of the 7th book, Remus Lupin survived the Battle of Hogwarts. #HappyBirthdayRemusLupin\"',\n",
              " '\"Ben Smith / Smith (concussion) remains out of the lineup Thursday, Curtis #NHL #SJ\"']"
            ]
          },
          "metadata": {},
          "execution_count": 66
        }
      ]
    },
    {
      "cell_type": "code",
      "metadata": {
        "colab": {
          "base_uri": "https://localhost:8080/"
        },
        "id": "d4c952b6",
        "outputId": "b2a5b3ba-9272-49a1-93c9-49431c6cf934"
      },
      "source": [
        "train_dataset[\"label\"][:2]"
      ],
      "id": "d4c952b6",
      "execution_count": 67,
      "outputs": [
        {
          "output_type": "execute_result",
          "data": {
            "text/plain": [
              "[2, 1]"
            ]
          },
          "metadata": {},
          "execution_count": 67
        }
      ]
    },
    {
      "cell_type": "markdown",
      "metadata": {
        "id": "68184652"
      },
      "source": [
        "## Если вы хотите сделать `collate_fn`"
      ],
      "id": "68184652"
    },
    {
      "cell_type": "markdown",
      "metadata": {
        "id": "706dab4d"
      },
      "source": [
        "### Давайте посмотрим что вообще происходит внутри этого метода\n",
        "Для этого сделаем функцию `empty_collate`, которая принимает на вход батч и отдает его, ничего с ним не делая"
      ],
      "id": "706dab4d"
    },
    {
      "cell_type": "code",
      "metadata": {
        "id": "3b7ce86b"
      },
      "source": [
        "def empty_collate(batch):\n",
        "    return batch"
      ],
      "id": "3b7ce86b",
      "execution_count": 68,
      "outputs": []
    },
    {
      "cell_type": "code",
      "metadata": {
        "id": "26f0fe92"
      },
      "source": [
        "train_loader = DataLoader(train_dataset, batch_size=2, shuffle=True, collate_fn=empty_collate)\n",
        "valid_loader = DataLoader(valid_dataset, batch_size=2, shuffle=False, collate_fn=empty_collate)\n",
        "test_loader = DataLoader(test_dataset, batch_size=2, shuffle=False, collate_fn=empty_collate)"
      ],
      "id": "26f0fe92",
      "execution_count": 69,
      "outputs": []
    },
    {
      "cell_type": "code",
      "metadata": {
        "colab": {
          "base_uri": "https://localhost:8080/"
        },
        "id": "942cf78e",
        "outputId": "720d394c-fc28-4af3-d1a0-1d1dbb99dfe5"
      },
      "source": [
        "for batch in train_loader:\n",
        "    break\n",
        "\n",
        "batch"
      ],
      "id": "942cf78e",
      "execution_count": 70,
      "outputs": [
        {
          "output_type": "execute_result",
          "data": {
            "text/plain": [
              "[{'label': 1,\n",
              "  'text': '\"Heavy fighting breaks out near the rebel stronghold of Baba Amr in Homs as Syrian troops begin a ground assault,...'},\n",
              " {'label': 2,\n",
              "  'text': '\"I spent the majority of my weekend sitting in bed, editing & watching the entire 1st season of Dexter. \\'Twas divine. I have no regrets.\"'}]"
            ]
          },
          "metadata": {},
          "execution_count": 70
        }
      ]
    },
    {
      "cell_type": "markdown",
      "metadata": {
        "id": "91ca5081"
      },
      "source": [
        "## Формат батча\n",
        "```python\n",
        "batch = [\n",
        "    {\n",
        "        \"text\": \"text1\",\n",
        "        \"label\": 0\n",
        "    }, \n",
        "    {\n",
        "        \"text\": \"text2\",\n",
        "        \"label\": 1\n",
        "    },\n",
        "    ...,\n",
        "    {\n",
        "        \"text\": \"textn\",\n",
        "        \"label\": 1\n",
        "    }\n",
        "]\n",
        "```\n",
        "То есть теперь у нас есть список, где каждый элемент — это словарь со значениями `text` и `label`.  \n",
        "\n",
        "Вы можете сделать функцию или класс с методом `collate`. Этот способ решения домашки предодчтительней, так как использовать `collate` очень хорошая практика.\n",
        "\n",
        "Что я предлагаю:\n",
        "- Сделайте класс `Tokenizer`"
      ],
      "id": "91ca5081"
    },
    {
      "cell_type": "code",
      "metadata": {
        "id": "315aba6f"
      },
      "source": [
        "from nltk import ToktokTokenizer"
      ],
      "id": "315aba6f",
      "execution_count": 71,
      "outputs": []
    },
    {
      "cell_type": "code",
      "metadata": {
        "id": "3b9ddcca"
      },
      "source": [
        "class Tokenizer:\n",
        "    \n",
        "    def __init__(self, base_tokenizer, token2index, pad_token, unk_token, max_length):\n",
        "        \n",
        "        self._base_tokenizer = base_tokenizer  # например ToktokTokenizer()\n",
        "        \n",
        "        self.token2index = token2index  # словарь из load_embeddings()\n",
        "        \n",
        "        self.pad_token = pad_token\n",
        "        self.pad_index = self.token2index[self.pad_token]\n",
        "        \n",
        "        self.unk_token = unk_token\n",
        "        self.unk_index = self.token2index[self.unk_token]\n",
        "        \n",
        "        self.max_length = max_length\n",
        "\n",
        "    def tokenize(self, text):\n",
        "        \"\"\"\n",
        "        В этом методе нужно разделить строку текста на токены\n",
        "        \"\"\"\n",
        "        return self._base_tokenizer.tokenize(text)\n",
        "    \n",
        "    def indexing(self, tokenized_text):\n",
        "        \"\"\"\n",
        "        В этом методе нужно перевести список токенов в список с индексами этих токенов\n",
        "        \"\"\"\n",
        "        return map(\n",
        "            lambda token: self.token2index.get(token, self.unk_index),\n",
        "            tokenized_text\n",
        "        )\n",
        "        \n",
        "    def padding(self, tokens_indices):\n",
        "        \"\"\"\n",
        "        В этом методе нужно сделать длину tokens_indices равной self.max_length\n",
        "        Опционально убрать повторяющиеся unk'и\n",
        "        \"\"\"\n",
        "        not_padded = list()\n",
        "        unk_flag = False\n",
        "        for idx in tokens_indices:\n",
        "            if idx == self.unk_index:\n",
        "                if unk_flag is False:\n",
        "                    not_padded.append(idx)\n",
        "                    unk_flag = True\n",
        "            else:\n",
        "                unk_flag = False\n",
        "                not_padded.append(idx)\n",
        "        diff_in_length = max(0, self.max_length - len(not_padded))\n",
        "        return not_padded[:self.max_length] + [self.pad_index] * diff_in_length\n",
        "    \n",
        "    def __call__(self, text):\n",
        "        tokenized_text = self.tokenize(text)\n",
        "        #  print(\"tokenized_text\", tokenized_text)\n",
        "        indices = self.indexing(tokenized_text)\n",
        "        #  print(\"indices\", indices)\n",
        "        padded = self.padding(indices)\n",
        "        #  print(\"padded\", padded)\n",
        "        \n",
        "        return padded\n",
        "        \n",
        "    def collate(self, batch):\n",
        "        \"\"\"\n",
        "        batch - список словариков вида \n",
        "            \"text\": String,\n",
        "            \"label\": Integer\n",
        "        \"\"\"\n",
        "        \n",
        "        tokenized_texts = list()\n",
        "        labels = list()\n",
        "        unpacking_generator = map(lambda s: (s['text'], s['label']),\n",
        "                                  batch)\n",
        "        for text, label in unpacking_generator:\n",
        "            labels.append(label)\n",
        "            tokenized_texts.append(self(text))\n",
        "        \n",
        "        tokenized_texts = torch.tensor(np.array(tokenized_texts)) # перевод в torch.Tensor\n",
        "        labels = torch.tensor(np.array(labels))  # перевод в torch.Tensor\n",
        "        \n",
        "        return tokenized_texts, labels"
      ],
      "id": "3b9ddcca",
      "execution_count": 72,
      "outputs": []
    },
    {
      "cell_type": "code",
      "metadata": {
        "id": "ccf3a479"
      },
      "source": [
        "#for i in range(45, 105, 5):\n",
        "    #v = int(np.percentile([len(s['text']) for batch in train_loader for s in batch], i))\n",
        "    #print(f\"Percentile: {i}%, value: {v}\")"
      ],
      "id": "ccf3a479",
      "execution_count": 73,
      "outputs": []
    },
    {
      "cell_type": "code",
      "metadata": {
        "id": "70cddb17"
      },
      "source": [
        "max_len = int(np.percentile([len(s['text']) for batch in train_loader for s in batch], 50))\n",
        "tokenizer = Tokenizer(\n",
        "    base_tokenizer=ToktokTokenizer(),\n",
        "    token2index=vocab,\n",
        "    pad_token=\"<PAD>\",\n",
        "    unk_token=\"<UNK>\",\n",
        "    max_length=max_len\n",
        ")"
      ],
      "id": "70cddb17",
      "execution_count": 74,
      "outputs": []
    },
    {
      "cell_type": "code",
      "metadata": {
        "colab": {
          "base_uri": "https://localhost:8080/"
        },
        "id": "6fbee417",
        "outputId": "ce7921e6-46b5-43d8-b7d0-5d92bac8d031"
      },
      "source": [
        "len(tokenizer(\"cat \" * 54))"
      ],
      "id": "6fbee417",
      "execution_count": 75,
      "outputs": [
        {
          "output_type": "execute_result",
          "data": {
            "text/plain": [
              "113"
            ]
          },
          "metadata": {},
          "execution_count": 75
        }
      ]
    },
    {
      "cell_type": "markdown",
      "metadata": {
        "id": "11ab7e6d"
      },
      "source": [
        "## Перед реализацией выбранного метода\n",
        "Советую, чтобы в итоге `Loader` отдавал кортеж с двумя тензорами:\n",
        "- `torch.Tensor` с индексами токенов, размерность `(batch_size, sequence_length)`\n",
        "- `torch.Tensor` с индексами таргетов, размерность `(batch_size)`\n",
        "\n",
        "То есть, чтобы было так:\n",
        "```python\n",
        "for x, y in train_loader:\n",
        "    ...\n",
        "\n",
        ">> x\n",
        ">> tensor([[   37,  3889,   470,  ...,     0,     0,     0],\n",
        "           [ 1509,   581,   144,  ...,     0,     0,     0],\n",
        "           [ 1804,   893,  2457,  ...,     0,     0,     0],\n",
        "           ...,\n",
        "           [  170, 39526,  2102,  ...,     0,     0,     0],\n",
        "           [ 1217,   172, 28440,  ...,     0,     0,     0],\n",
        "           [   37,    56,   603,  ...,     0,     0,     0]])\n",
        "\n",
        ">> y\n",
        ">> tensor([1, 2, 2, 2, 1, 1, 1, 1, 2, 1, 1, 2, 2, 1, 1, 1, 1, 1, 0, 1, 2, 0, 0, 1,\n",
        "           0, 2, 1, 1, 0, 1, 2, 0, 2, 1, 2, 1, 1, 1, 2, 1, 1, 0, 1, 1, 1, 0, 1, 0,\n",
        "           1, 0, 2, 2, 2, 1, 1, 2, 2, 2, 1, 2, 0, 1, 0, 2, 1, 2, 2, 1, 0, 0, 2, 2,\n",
        "           2, 1, 2, 0, 2, 2, 0, 2, 0, 1, 1, 1, 2, 2, 2, 1, 1, 1, 1, 2, 1, 0, 2, 2,\n",
        "           2, 1, 1, 1, 1, 1, 2, 2, 2, 2, 1, 1, 2, 1, 1, 0, 1, 1, 1, 2, 2, 1, 2, 1,\n",
        "           2, 1, 1, 2, 2, 1, 1, 2])\n",
        "\n",
        ">> x.shape\n",
        ">> torch.Size([128, 64])\n",
        "\n",
        ">> y.shape\n",
        ">> torch.Size([128])\n",
        "```\n",
        "При условии, что батч сайз равен 128, а максимальная длина последовательности равна 64.\n",
        "\n",
        "## Помните"
      ],
      "id": "11ab7e6d"
    },
    {
      "cell_type": "markdown",
      "metadata": {
        "id": "018cf71c"
      },
      "source": [
        "## <Место для реализации>"
      ],
      "id": "018cf71c"
    },
    {
      "cell_type": "code",
      "metadata": {
        "id": "40268f8c"
      },
      "source": [
        "train_loader = DataLoader(train_dataset,\n",
        "                          batch_size=256,\n",
        "                          shuffle=True,\n",
        "                          collate_fn=tokenizer.collate)\n",
        "\n",
        "valid_loader = DataLoader(valid_dataset,\n",
        "                          batch_size=256,\n",
        "                          shuffle=True,\n",
        "                          collate_fn=tokenizer.collate)\n",
        "\n",
        "test_loader = DataLoader(test_dataset,\n",
        "                         batch_size=256,\n",
        "                         shuffle=True,\n",
        "                         collate_fn=tokenizer.collate)"
      ],
      "id": "40268f8c",
      "execution_count": 76,
      "outputs": []
    },
    {
      "cell_type": "code",
      "metadata": {
        "id": "d293b759"
      },
      "source": [
        "for x, y in train_loader:\n",
        "    break"
      ],
      "id": "d293b759",
      "execution_count": 77,
      "outputs": []
    },
    {
      "cell_type": "code",
      "metadata": {
        "colab": {
          "base_uri": "https://localhost:8080/"
        },
        "id": "87752ad7",
        "outputId": "76ee3e46-a78c-4387-b5cb-e182b9a8dbed"
      },
      "source": [
        "assert(isinstance(x, torch.Tensor))\n",
        "assert(len(x.size()) == 2)\n",
        "\n",
        "assert(isinstance(y, torch.Tensor))\n",
        "assert(len(y.size()) == 1)\n",
        "\n",
        "assert(x.size()[0] == y.size()[0])\n",
        "print(x.size(), y.size())"
      ],
      "id": "87752ad7",
      "execution_count": 78,
      "outputs": [
        {
          "output_type": "stream",
          "name": "stdout",
          "text": [
            "torch.Size([256, 113]) torch.Size([256])\n"
          ]
        }
      ]
    },
    {
      "cell_type": "markdown",
      "metadata": {
        "id": "dbc96104"
      },
      "source": [
        "# Реализация DAN\n",
        "\n",
        "На вход модели будут подавать индексы слов\n",
        "\n",
        "Шаги:\n",
        "- Переводим индексы слов в эмбеддинги\n",
        "- Усредняем эмбеддинги\n",
        "- Пропускаем усредненные эмбеддинги через `Multilayer Perceptron`\n",
        "    - Нужно реализовать самому\n",
        "    \n",
        "Дополнительно:\n",
        "- Добавьте `nn.Dropout`, `nn.BatchNorm` по вкусу\n",
        "- Сделайте усреднение с учетом падов\n",
        "- Используйте эмбеддинги от берта/роберты/тд (когда-нибудь про это будет целый туториал, а пока предлагают вам попробовать сделать это самим)"
      ],
      "id": "dbc96104"
    },
    {
      "cell_type": "markdown",
      "metadata": {
        "id": "123324f0"
      },
      "source": [
        "# Советы\n",
        "\n",
        "## До обучения\n",
        "- Выберите метрику(ки) качества и расскажите почему она(они)\n",
        "    - Обычно есть основная метрика, по которой принимаем решения какие веса брать и дополнительные, которые нам помогут делать выводы, например, о том все ли хорошо с нашими данными, хорошо ли модель справляется с дисбалансом классов и тд\n",
        "- Эту домашку можно сделать и на `CPU`, но на `GPU` будет сильно быстрее\n",
        "    - Во всех остальных домашках мы будем учить модели на `GPU`\n",
        "    - Рано или поздно вам придется посмотреть этот [туториал](https://www.youtube.com/watch?v=pgk1zGv5lU4)\n",
        "    - Вы можете обучаться на `colab`, это бесплатно\n",
        "\n",
        "## До эпохи\n",
        "- Сделайте списки/словари/другое, чтобы сохранять нужные данные для расчета метрик(и) по всей эпохе для трейна и валидации\n",
        "\n",
        "## Во время эпохи\n",
        "- Используйте [`tqdm`](https://github.com/tqdm/tqdm) как прогресс бар, чтобы понимать как проходит ваше обучение\n",
        "- Логируйте лосс\n",
        "- Логируйте метрику(ки) по батчу\n",
        "- Сохраняйте то, что вам нужно, чтобы посчитать метрик(и) на всю эпоху для трейна и валидации\n",
        "\n",
        "## После эпохи\n",
        "- Посчитайте метрик(и) на всю эпоху для трейна и валидации\n",
        "\n",
        "## После обучения\n",
        "- Провалидируйтесь на тестовом наборе и посмотрите метрики\n",
        "- Постройте [`classification_report`](https://scikit-learn.org/stable/modules/generated/sklearn.metrics.classification_report.html)\n",
        "- Постройте графики:\n",
        "    - [Confusion Matrix](https://scikit-learn.org/stable/modules/model_evaluation.html#confusion-matrix)\n",
        "    - [Опционально] Распределение вероятностей мажоритарного класса (то есть для какого-то примера мы выбираем такой класс и вероятность этого выбора такая-то) на трейне/тесте/валидации\n",
        "        - Если класс был выбран верно и если была ошибка\n",
        "- Подумайте что еще вам будет полезно для того, чтобы ответить на такие вопросы: \n",
        "    - Что в моделе можно улучшить?\n",
        "    - Все ли хорошо с моими данными?\n",
        "    - Все ли хорошо с валидацией?\n",
        "    - Не переобучился ли я?\n",
        "    - Достаточно ли я посмотрел на данные?\n",
        "    - Нужно ли мне улучшить предобработку данных?\n",
        "    - Нужно ли поменять токенизацию или эмбеддинги?\n",
        "    - Нет ли у меня багов в реализации?\n",
        "    - Какие типичные ошибки у моей модели?\n",
        "    - Как я могу их исправить?"
      ],
      "id": "123324f0"
    },
    {
      "cell_type": "markdown",
      "metadata": {
        "id": "c054412d"
      },
      "source": [
        "_________"
      ],
      "id": "c054412d"
    },
    {
      "cell_type": "markdown",
      "metadata": {
        "id": "52248305"
      },
      "source": [
        "Самым простым и понятным для меня вариантом будет f1 метрика. Но сперва я хочу попробовать обосновать, почему её стоит тут использовать (и какую именно из возможных). Давайте посмотрим на лейблы"
      ],
      "id": "52248305"
    },
    {
      "cell_type": "code",
      "metadata": {
        "id": "6b4ca93b"
      },
      "source": [
        "train_labels = pd.Series([x[\"label\"] for x in train_dataset])\n",
        "test_labels = pd.Series([x[\"label\"] for x in test_dataset])\n",
        "eval_labels = pd.Series([x[\"label\"] for x in valid_dataset])\n",
        "\n",
        "labels = [train_labels, test_labels, eval_labels]\n",
        "titles = [\"Train dataset labels distibution\",\n",
        "          \"Test dataset labels distibution\",\n",
        "          \"Validation dataset labels distibution\"]"
      ],
      "id": "6b4ca93b",
      "execution_count": 79,
      "outputs": []
    },
    {
      "cell_type": "markdown",
      "metadata": {
        "id": "b92da5cd"
      },
      "source": [
        "Из описания датасета следует, что лейблы означают следующее: \\\n",
        "0: negative \\\n",
        "1: neutral \\\n",
        "2: positive "
      ],
      "id": "b92da5cd"
    },
    {
      "cell_type": "code",
      "metadata": {
        "colab": {
          "base_uri": "https://localhost:8080/",
          "height": 1000
        },
        "id": "34b81558",
        "outputId": "dfd705b3-8c8e-4623-d98b-f753069ffe26"
      },
      "source": [
        "_, axis = plt.subplots(3, 1, figsize=(18,18))\n",
        "labels_meaning = [\n",
        "    \"negative\",\n",
        "    \"neutral\",\n",
        "    \"positive\"]\n",
        "for i in range(0,3):\n",
        "    label, title = labels[i], titles[i]\n",
        "    label_agg_counts = pd.Series({k:v for k,v in sorted(label.value_counts().items(), key=lambda x: x[0])})\n",
        "    axis[i].set_title(title, fontsize=18)\n",
        "    axis[i].pie(\n",
        "        label_agg_counts,\n",
        "        autopct='%1.1f%%',\n",
        "        labels=[labels_meaning[k] for k in label_agg_counts.keys()], \n",
        "        pctdistance=0.65, \n",
        "        textprops = {\"fontsize\": 14},\n",
        "    )\n"
      ],
      "id": "34b81558",
      "execution_count": 80,
      "outputs": [
        {
          "output_type": "display_data",
          "data": {
            "image/png": "[encoded data removed]",
            "text/plain": [
              "<Figure size 1296x1296 with 3 Axes>"
            ]
          },
          "metadata": {}
        }
      ]
    },
    {
      "cell_type": "markdown",
      "metadata": {
        "id": "ff1f451c"
      },
      "source": [
        "# Я выбрал метрику F1_weighted\n",
        "Почему я выбрал эту метрику:  \n",
        "Из всего многообразия метрик правильным кажется выбор f1_weighted метрики, потому что, исходя из описания:\n",
        "```\n",
        "'weighted':\n",
        "Calculate metrics for each label, and find their average weighted by support (the number of true instances for each label). This alters ‘macro’ to account for label imbalance; it can result in an F-score that is not between precision and recall.\n",
        "```\n",
        "она подходит для классификации с несбалансированными классами. В нашем случае (см. пайчарты выше) складывается именно такая ситуация - во всех датасетах есть класс, у которого мало представителей. Например для обучающей выборки это класс negative. \\\n",
        "Более того, F1_weighted удобнее использовать в данном случае, потому что в качестве golden тегов у нас имеются лейблы в чистом виде. (для roc-auc, например, понадобилось бы бинаризовать лейблы, и затем было бы сложнее интерпретировать результат)"
      ],
      "id": "ff1f451c"
    },
    {
      "cell_type": "markdown",
      "metadata": {
        "id": "8d1e4e0d"
      },
      "source": [
        "# Реализация DAN\n",
        "\n",
        "На вход модели будут подавать индексы слов\n",
        "\n",
        "Шаги:\n",
        "- Переводим индексы слов в эмбеддинги\n",
        "- Усредняем эмбеддинги\n",
        "- Пропускаем усредненные эмбеддинги через `Multilayer Perceptron`\n",
        "    - Нужно реализовать самому\n",
        "    "
      ],
      "id": "8d1e4e0d"
    },
    {
      "cell_type": "code",
      "metadata": {
        "id": "da42260c"
      },
      "source": [
        "from typing import List, Union\n",
        "from collections.abc import Iterable\n",
        "from copy import copy\n",
        "\n",
        "class DeepAverageNetwork(nn.Module):\n",
        "    def __init__(self,\n",
        "                 vocab_size: int,\n",
        "                 embeddings: np.ndarray,\n",
        "                 n_classes: int,\n",
        "                 hidden_dim: int = 128,\n",
        "                 freeze: bool = True,\n",
        "                 padding_idx: int = 0\n",
        "                ):\n",
        "        super().__init__() \n",
        "        assert(len(embeddings.shape) == 2)\n",
        "        embedding_dim = embeddings.shape[-1]\n",
        "        self.embed = nn.Embedding(vocab_size, embedding_dim)\n",
        "        self.embed.from_pretrained(\n",
        "               torch.Tensor(embeddings),\n",
        "               freeze=freeze,\n",
        "               padding_idx=padding_idx\n",
        "            )\n",
        "        # для усреднения\n",
        "        self.mean_pooling = torch.mean\n",
        "        # from embeddings  to linear\n",
        "        linear_layer_1 = nn.Linear(embedding_dim, hidden_dim)        \n",
        "        # add non-linearity\n",
        "        relu = nn.ReLU()        \n",
        "        # from linear to number of classes\n",
        "        linear_layer_2 = nn.Linear(hidden_dim, n_classes)\n",
        "        \n",
        "        self.classifier = nn.Sequential(\n",
        "            linear_layer_1,\n",
        "            relu,\n",
        "            linear_layer_2\n",
        "        )\n",
        "        \n",
        "        # activation\n",
        "        self.activation = nn.Softmax()\n",
        "        \n",
        "    def forward(self, text: torch.Tensor):\n",
        "        embedded = self.embed(text)        \n",
        "        mean = self.mean_pooling(embedded, dim=1)\n",
        "        logits = self.classifier(mean)\n",
        "        return self.activation(logits)"
      ],
      "id": "da42260c",
      "execution_count": 107,
      "outputs": []
    },
    {
      "cell_type": "code",
      "metadata": {
        "id": "7966f715"
      },
      "source": [
        "model = DeepAverageNetwork(\n",
        "    len(vocab),\n",
        "    embeddings, # 2-dim матрицы\n",
        "    len(labels_meaning), # 3\n",
        "    64\n",
        ")"
      ],
      "id": "7966f715",
      "execution_count": 108,
      "outputs": []
    },
    {
      "cell_type": "code",
      "metadata": {
        "colab": {
          "base_uri": "https://localhost:8080/"
        },
        "id": "91c0d62f",
        "outputId": "f78d3954-367b-4746-cea8-6237a1fb4f9e"
      },
      "source": [
        "model"
      ],
      "id": "91c0d62f",
      "execution_count": 109,
      "outputs": [
        {
          "output_type": "execute_result",
          "data": {
            "text/plain": [
              "DeepAverageNetwork(\n",
              "  (embed): Embedding(100000, 300)\n",
              "  (classifier): Sequential(\n",
              "    (0): Linear(in_features=300, out_features=64, bias=True)\n",
              "    (1): ReLU()\n",
              "    (2): Linear(in_features=64, out_features=3, bias=True)\n",
              "  )\n",
              "  (activation): Softmax(dim=None)\n",
              ")"
            ]
          },
          "metadata": {},
          "execution_count": 109
        }
      ]
    },
    {
      "cell_type": "markdown",
      "metadata": {
        "id": "5efad1d1"
      },
      "source": [
        "## Задайте функцию потерь и оптимизатор"
      ],
      "id": "5efad1d1"
    },
    {
      "cell_type": "code",
      "metadata": {
        "colab": {
          "base_uri": "https://localhost:8080/"
        },
        "id": "34c552fa",
        "outputId": "22529772-f7ce-43ef-914e-3999feca1b96"
      },
      "source": [
        "# CEL мне +- знаком, поэтому он\n",
        "loss_func = nn.CrossEntropyLoss()\n",
        "opt = torch.optim.Adam(model.parameters(), lr=0.0005)\n",
        "\n",
        "model.to(device)\n",
        "loss_func.to(device)"
      ],
      "id": "34c552fa",
      "execution_count": 110,
      "outputs": [
        {
          "output_type": "execute_result",
          "data": {
            "text/plain": [
              "CrossEntropyLoss()"
            ]
          },
          "metadata": {},
          "execution_count": 110
        }
      ]
    },
    {
      "cell_type": "markdown",
      "metadata": {
        "id": "628847fe"
      },
      "source": [
        "## Сделайте цикл обучения"
      ],
      "id": "628847fe"
    },
    {
      "cell_type": "markdown",
      "metadata": {
        "id": "595d19a9"
      },
      "source": [
        "#### utils"
      ],
      "id": "595d19a9"
    },
    {
      "cell_type": "markdown",
      "metadata": {
        "id": "9bf94ace"
      },
      "source": [
        "- Логируйте лосс\n",
        "- Логируйте метрику(ки) по батчу\n",
        "- Сохраняйте то, что вам нужно, чтобы посчитать метрик(и) на всю эпоху для трейна и валидации"
      ],
      "id": "9bf94ace"
    },
    {
      "cell_type": "code",
      "metadata": {
        "id": "329ce2e4"
      },
      "source": [
        "def train(model, data, opt, loss_func):\n",
        "    loss_container = []\n",
        "    ys = {\n",
        "        \"y_hat\": [],\n",
        "        \"y_true\": []\n",
        "    }\n",
        "    model.train()\n",
        "    \n",
        "    total = len(data)\n",
        "    prog_bar = tqdm(enumerate(data), total=total, desc =\"DAN training\")\n",
        "    for i, (x, y) in prog_bar:\n",
        "        text, golden_label = x, y\n",
        "        opt.zero_grad()   \n",
        "        \n",
        "        y_pred = model(text.to(device)).squeeze()     \n",
        "        \n",
        "        loss = loss_func(y_pred, golden_label.to(device))          \n",
        "        loss.backward()\n",
        "        opt.step()\n",
        "        \n",
        "        loss_container.append(loss.item())        \n",
        "        ys['y_true'].extend(golden_label.tolist()) \n",
        "        # load tensor from GPU to CPU, translate to np.array and get indices of max elements - these are the predicted classes\n",
        "        ys['y_hat'].extend(y_pred.detach().cpu().numpy().argmax(1).tolist())\n",
        "        \n",
        "    f1_weighted = f1_score(ys['y_hat'], ys['y_true'], average=\"weighted\")\n",
        "\n",
        "    return np.mean(loss_container), f1_weighted\n"
      ],
      "id": "329ce2e4",
      "execution_count": 111,
      "outputs": []
    },
    {
      "cell_type": "code",
      "metadata": {
        "id": "d38aed89"
      },
      "source": [
        "def evaluate(model, data, loss_func):\n",
        "    loss_container = []\n",
        "    ys = {\n",
        "        \"y_hat\": [],\n",
        "        \"y_true\": []\n",
        "    }\n",
        "    total = len(data)\n",
        "    prog_bar = tqdm(enumerate(data), total=total, desc =\"DAN validation\")\n",
        "    with torch.no_grad():\n",
        "        for i, (x, y) in prog_bar:\n",
        "                text, golden_label = x, y\n",
        "                y_pred = model(text.to(device)).squeeze()     \n",
        "\n",
        "                loss = loss_func(y_pred, golden_label.to(device))\n",
        "                loss_container.append(loss.item())\n",
        "\n",
        "                ys['y_true'].extend(golden_label.tolist())\n",
        "                ys['y_hat'].extend(y_pred.detach().cpu().numpy().argmax(1).tolist())\n",
        "\n",
        "    f1_weighted = f1_score(ys['y_hat'], ys['y_true'], average=\"weighted\")\n",
        "\n",
        "    return np.mean(loss_container), f1_weighted"
      ],
      "id": "d38aed89",
      "execution_count": 112,
      "outputs": []
    },
    {
      "cell_type": "markdown",
      "metadata": {
        "id": "46BLAp1DqVls"
      },
      "source": [
        "#### Training"
      ],
      "id": "46BLAp1DqVls"
    },
    {
      "cell_type": "code",
      "metadata": {
        "scrolled": false,
        "colab": {
          "base_uri": "https://localhost:8080/"
        },
        "id": "1381e0e8",
        "outputId": "88345196-060d-44b5-f244-3abbebf133be"
      },
      "source": [
        "NUM_EPOCHS = 13  # Задайте количество эпох\n",
        "\n",
        "losses_train = []\n",
        "losses_eval = []\n",
        "\n",
        "f1_train = []\n",
        "f1_eval = []\n",
        "\n",
        "for n_epoch in range(NUM_EPOCHS):\n",
        "    print('='*60 + f\"\\nEpoch {n_epoch}\")\n",
        "    # train\n",
        "    mean_loss_train, weighted_f1_score_train = train(\n",
        "        model=model,\n",
        "        data=train_loader,\n",
        "        loss_func=loss_func,\n",
        "        opt=opt\n",
        "    )\n",
        "    losses_train.append(mean_loss_train)\n",
        "    f1_train.append(weighted_f1_score_train)\n",
        "    # validation\n",
        "    mean_loss_eval, weighted_f1_score_eval = evaluate(\n",
        "        model=model,\n",
        "        data=valid_loader,\n",
        "        loss_func=loss_func,\n",
        "    )\n",
        "    losses_eval.append(mean_loss_eval)\n",
        "    f1_eval.append(weighted_f1_score_eval)\n",
        "    \n",
        "    print(f\"Epoch {n_epoch} finished.\")\n",
        "    print(f\"Train loss: {mean_loss_train}, Train F1: {weighted_f1_score_train}\\n\" \\\n",
        "          f\"Validation loss: {mean_loss_eval} Validation F1: {weighted_f1_score_eval}\\n\")"
      ],
      "id": "1381e0e8",
      "execution_count": 113,
      "outputs": [
        {
          "output_type": "stream",
          "name": "stdout",
          "text": [
            "============================================================\n",
            "Epoch 0\n"
          ]
        },
        {
          "output_type": "stream",
          "name": "stderr",
          "text": [
            "DAN training:   0%|          | 0/179 [00:00<?, ?it/s]/usr/local/lib/python3.7/dist-packages/ipykernel_launcher.py:45: UserWarning: Implicit dimension choice for softmax has been deprecated. Change the call to include dim=X as an argument.\n",
            "DAN training: 100%|██████████| 179/179 [00:13<00:00, 12.80it/s]\n",
            "DAN validation:   0%|          | 0/8 [00:00<?, ?it/s]/usr/local/lib/python3.7/dist-packages/ipykernel_launcher.py:45: UserWarning: Implicit dimension choice for softmax has been deprecated. Change the call to include dim=X as an argument.\n",
            "DAN validation: 100%|██████████| 8/8 [00:00<00:00, 19.78it/s]\n"
          ]
        },
        {
          "output_type": "stream",
          "name": "stdout",
          "text": [
            "Epoch 0 finished.\n",
            "Train loss: 1.0348874963195631, Train F1: 0.5824986584862805\n",
            "Validation loss: 1.033930018544197 Validation F1: 0.6047363958106702\n",
            "\n",
            "============================================================\n",
            "Epoch 1\n"
          ]
        },
        {
          "output_type": "stream",
          "name": "stderr",
          "text": [
            "DAN training:   0%|          | 0/179 [00:00<?, ?it/s]/usr/local/lib/python3.7/dist-packages/ipykernel_launcher.py:45: UserWarning: Implicit dimension choice for softmax has been deprecated. Change the call to include dim=X as an argument.\n",
            "DAN training: 100%|██████████| 179/179 [00:14<00:00, 12.53it/s]\n",
            "DAN validation:   0%|          | 0/8 [00:00<?, ?it/s]/usr/local/lib/python3.7/dist-packages/ipykernel_launcher.py:45: UserWarning: Implicit dimension choice for softmax has been deprecated. Change the call to include dim=X as an argument.\n",
            "DAN validation: 100%|██████████| 8/8 [00:00<00:00, 19.31it/s]\n"
          ]
        },
        {
          "output_type": "stream",
          "name": "stdout",
          "text": [
            "Epoch 1 finished.\n",
            "Train loss: 1.02882990157804, Train F1: 0.6007786230970215\n",
            "Validation loss: 1.0287036299705505 Validation F1: 0.5961411589628501\n",
            "\n",
            "============================================================\n",
            "Epoch 2\n"
          ]
        },
        {
          "output_type": "stream",
          "name": "stderr",
          "text": [
            "DAN training:   0%|          | 0/179 [00:00<?, ?it/s]/usr/local/lib/python3.7/dist-packages/ipykernel_launcher.py:45: UserWarning: Implicit dimension choice for softmax has been deprecated. Change the call to include dim=X as an argument.\n",
            "DAN training: 100%|██████████| 179/179 [00:14<00:00, 12.56it/s]\n",
            "DAN validation:   0%|          | 0/8 [00:00<?, ?it/s]/usr/local/lib/python3.7/dist-packages/ipykernel_launcher.py:45: UserWarning: Implicit dimension choice for softmax has been deprecated. Change the call to include dim=X as an argument.\n",
            "DAN validation: 100%|██████████| 8/8 [00:00<00:00, 20.18it/s]\n"
          ]
        },
        {
          "output_type": "stream",
          "name": "stdout",
          "text": [
            "Epoch 2 finished.\n",
            "Train loss: 1.0193744964439775, Train F1: 0.5909948328975201\n",
            "Validation loss: 1.0163967832922935 Validation F1: 0.5824317684251801\n",
            "\n",
            "============================================================\n",
            "Epoch 3\n"
          ]
        },
        {
          "output_type": "stream",
          "name": "stderr",
          "text": [
            "DAN training:   0%|          | 0/179 [00:00<?, ?it/s]/usr/local/lib/python3.7/dist-packages/ipykernel_launcher.py:45: UserWarning: Implicit dimension choice for softmax has been deprecated. Change the call to include dim=X as an argument.\n",
            "DAN training: 100%|██████████| 179/179 [00:14<00:00, 12.54it/s]\n",
            "DAN validation:   0%|          | 0/8 [00:00<?, ?it/s]/usr/local/lib/python3.7/dist-packages/ipykernel_launcher.py:45: UserWarning: Implicit dimension choice for softmax has been deprecated. Change the call to include dim=X as an argument.\n",
            "DAN validation: 100%|██████████| 8/8 [00:00<00:00, 18.98it/s]\n"
          ]
        },
        {
          "output_type": "stream",
          "name": "stdout",
          "text": [
            "Epoch 3 finished.\n",
            "Train loss: 1.0018303524182495, Train F1: 0.603191490656611\n",
            "Validation loss: 1.0032473057508469 Validation F1: 0.587271607508165\n",
            "\n",
            "============================================================\n",
            "Epoch 4\n"
          ]
        },
        {
          "output_type": "stream",
          "name": "stderr",
          "text": [
            "DAN training:   0%|          | 0/179 [00:00<?, ?it/s]/usr/local/lib/python3.7/dist-packages/ipykernel_launcher.py:45: UserWarning: Implicit dimension choice for softmax has been deprecated. Change the call to include dim=X as an argument.\n",
            "DAN training: 100%|██████████| 179/179 [00:14<00:00, 12.69it/s]\n",
            "DAN validation:   0%|          | 0/8 [00:00<?, ?it/s]/usr/local/lib/python3.7/dist-packages/ipykernel_launcher.py:45: UserWarning: Implicit dimension choice for softmax has been deprecated. Change the call to include dim=X as an argument.\n",
            "DAN validation: 100%|██████████| 8/8 [00:00<00:00, 19.40it/s]\n"
          ]
        },
        {
          "output_type": "stream",
          "name": "stdout",
          "text": [
            "Epoch 4 finished.\n",
            "Train loss: 0.9826063959958167, Train F1: 0.6182746774231495\n",
            "Validation loss: 0.9863572418689728 Validation F1: 0.5932208965284799\n",
            "\n",
            "============================================================\n",
            "Epoch 5\n"
          ]
        },
        {
          "output_type": "stream",
          "name": "stderr",
          "text": [
            "DAN training:   0%|          | 0/179 [00:00<?, ?it/s]/usr/local/lib/python3.7/dist-packages/ipykernel_launcher.py:45: UserWarning: Implicit dimension choice for softmax has been deprecated. Change the call to include dim=X as an argument.\n",
            "DAN training: 100%|██████████| 179/179 [00:14<00:00, 12.73it/s]\n",
            "DAN validation:   0%|          | 0/8 [00:00<?, ?it/s]/usr/local/lib/python3.7/dist-packages/ipykernel_launcher.py:45: UserWarning: Implicit dimension choice for softmax has been deprecated. Change the call to include dim=X as an argument.\n",
            "DAN validation: 100%|██████████| 8/8 [00:00<00:00, 20.47it/s]\n"
          ]
        },
        {
          "output_type": "stream",
          "name": "stdout",
          "text": [
            "Epoch 5 finished.\n",
            "Train loss: 0.967844035039401, Train F1: 0.6241693911700389\n",
            "Validation loss: 0.9765570163726807 Validation F1: 0.600220140918726\n",
            "\n",
            "============================================================\n",
            "Epoch 6\n"
          ]
        },
        {
          "output_type": "stream",
          "name": "stderr",
          "text": [
            "DAN training:   0%|          | 0/179 [00:00<?, ?it/s]/usr/local/lib/python3.7/dist-packages/ipykernel_launcher.py:45: UserWarning: Implicit dimension choice for softmax has been deprecated. Change the call to include dim=X as an argument.\n",
            "DAN training: 100%|██████████| 179/179 [00:14<00:00, 12.61it/s]\n",
            "DAN validation:   0%|          | 0/8 [00:00<?, ?it/s]/usr/local/lib/python3.7/dist-packages/ipykernel_launcher.py:45: UserWarning: Implicit dimension choice for softmax has been deprecated. Change the call to include dim=X as an argument.\n",
            "DAN validation: 100%|██████████| 8/8 [00:00<00:00, 19.36it/s]\n"
          ]
        },
        {
          "output_type": "stream",
          "name": "stdout",
          "text": [
            "Epoch 6 finished.\n",
            "Train loss: 0.9547092461719193, Train F1: 0.6403541059375968\n",
            "Validation loss: 0.9696971252560616 Validation F1: 0.6195689485623809\n",
            "\n",
            "============================================================\n",
            "Epoch 7\n"
          ]
        },
        {
          "output_type": "stream",
          "name": "stderr",
          "text": [
            "DAN training:   0%|          | 0/179 [00:00<?, ?it/s]/usr/local/lib/python3.7/dist-packages/ipykernel_launcher.py:45: UserWarning: Implicit dimension choice for softmax has been deprecated. Change the call to include dim=X as an argument.\n",
            "DAN training: 100%|██████████| 179/179 [00:14<00:00, 12.64it/s]\n",
            "DAN validation:   0%|          | 0/8 [00:00<?, ?it/s]/usr/local/lib/python3.7/dist-packages/ipykernel_launcher.py:45: UserWarning: Implicit dimension choice for softmax has been deprecated. Change the call to include dim=X as an argument.\n",
            "DAN validation: 100%|██████████| 8/8 [00:00<00:00, 19.62it/s]\n"
          ]
        },
        {
          "output_type": "stream",
          "name": "stdout",
          "text": [
            "Epoch 7 finished.\n",
            "Train loss: 0.9476971586323317, Train F1: 0.6467859396094899\n",
            "Validation loss: 0.9692722260951996 Validation F1: 0.6057432783474125\n",
            "\n",
            "============================================================\n",
            "Epoch 8\n"
          ]
        },
        {
          "output_type": "stream",
          "name": "stderr",
          "text": [
            "DAN training:   0%|          | 0/179 [00:00<?, ?it/s]/usr/local/lib/python3.7/dist-packages/ipykernel_launcher.py:45: UserWarning: Implicit dimension choice for softmax has been deprecated. Change the call to include dim=X as an argument.\n",
            "DAN training: 100%|██████████| 179/179 [00:14<00:00, 12.71it/s]\n",
            "DAN validation:   0%|          | 0/8 [00:00<?, ?it/s]/usr/local/lib/python3.7/dist-packages/ipykernel_launcher.py:45: UserWarning: Implicit dimension choice for softmax has been deprecated. Change the call to include dim=X as an argument.\n",
            "DAN validation: 100%|██████████| 8/8 [00:00<00:00, 20.19it/s]\n"
          ]
        },
        {
          "output_type": "stream",
          "name": "stdout",
          "text": [
            "Epoch 8 finished.\n",
            "Train loss: 0.9399237183219228, Train F1: 0.6561343204639969\n",
            "Validation loss: 0.9597454592585564 Validation F1: 0.6259978885453585\n",
            "\n",
            "============================================================\n",
            "Epoch 9\n"
          ]
        },
        {
          "output_type": "stream",
          "name": "stderr",
          "text": [
            "DAN training:   0%|          | 0/179 [00:00<?, ?it/s]/usr/local/lib/python3.7/dist-packages/ipykernel_launcher.py:45: UserWarning: Implicit dimension choice for softmax has been deprecated. Change the call to include dim=X as an argument.\n",
            "DAN training: 100%|██████████| 179/179 [00:14<00:00, 12.61it/s]\n",
            "DAN validation:   0%|          | 0/8 [00:00<?, ?it/s]/usr/local/lib/python3.7/dist-packages/ipykernel_launcher.py:45: UserWarning: Implicit dimension choice for softmax has been deprecated. Change the call to include dim=X as an argument.\n",
            "DAN validation: 100%|██████████| 8/8 [00:00<00:00, 20.93it/s]\n"
          ]
        },
        {
          "output_type": "stream",
          "name": "stdout",
          "text": [
            "Epoch 9 finished.\n",
            "Train loss: 0.9343329717993071, Train F1: 0.6633250097065359\n",
            "Validation loss: 0.9561386853456497 Validation F1: 0.63423450744355\n",
            "\n",
            "============================================================\n",
            "Epoch 10\n"
          ]
        },
        {
          "output_type": "stream",
          "name": "stderr",
          "text": [
            "DAN training:   0%|          | 0/179 [00:00<?, ?it/s]/usr/local/lib/python3.7/dist-packages/ipykernel_launcher.py:45: UserWarning: Implicit dimension choice for softmax has been deprecated. Change the call to include dim=X as an argument.\n",
            "DAN training: 100%|██████████| 179/179 [00:14<00:00, 12.62it/s]\n",
            "DAN validation:   0%|          | 0/8 [00:00<?, ?it/s]/usr/local/lib/python3.7/dist-packages/ipykernel_launcher.py:45: UserWarning: Implicit dimension choice for softmax has been deprecated. Change the call to include dim=X as an argument.\n",
            "DAN validation: 100%|██████████| 8/8 [00:00<00:00, 20.50it/s]\n"
          ]
        },
        {
          "output_type": "stream",
          "name": "stdout",
          "text": [
            "Epoch 10 finished.\n",
            "Train loss: 0.9280808521382635, Train F1: 0.6694730213372836\n",
            "Validation loss: 0.9528511166572571 Validation F1: 0.6374428064019171\n",
            "\n",
            "============================================================\n",
            "Epoch 11\n"
          ]
        },
        {
          "output_type": "stream",
          "name": "stderr",
          "text": [
            "DAN training:   0%|          | 0/179 [00:00<?, ?it/s]/usr/local/lib/python3.7/dist-packages/ipykernel_launcher.py:45: UserWarning: Implicit dimension choice for softmax has been deprecated. Change the call to include dim=X as an argument.\n",
            "DAN training: 100%|██████████| 179/179 [00:14<00:00, 12.51it/s]\n",
            "DAN validation:   0%|          | 0/8 [00:00<?, ?it/s]/usr/local/lib/python3.7/dist-packages/ipykernel_launcher.py:45: UserWarning: Implicit dimension choice for softmax has been deprecated. Change the call to include dim=X as an argument.\n",
            "DAN validation: 100%|██████████| 8/8 [00:00<00:00, 17.33it/s]\n"
          ]
        },
        {
          "output_type": "stream",
          "name": "stdout",
          "text": [
            "Epoch 11 finished.\n",
            "Train loss: 0.9233778538650641, Train F1: 0.6742823205113997\n",
            "Validation loss: 0.9500886723399162 Validation F1: 0.6338111042472756\n",
            "\n",
            "============================================================\n",
            "Epoch 12\n"
          ]
        },
        {
          "output_type": "stream",
          "name": "stderr",
          "text": [
            "DAN training:   0%|          | 0/179 [00:00<?, ?it/s]/usr/local/lib/python3.7/dist-packages/ipykernel_launcher.py:45: UserWarning: Implicit dimension choice for softmax has been deprecated. Change the call to include dim=X as an argument.\n",
            "DAN training: 100%|██████████| 179/179 [00:14<00:00, 12.36it/s]\n",
            "DAN validation:   0%|          | 0/8 [00:00<?, ?it/s]/usr/local/lib/python3.7/dist-packages/ipykernel_launcher.py:45: UserWarning: Implicit dimension choice for softmax has been deprecated. Change the call to include dim=X as an argument.\n",
            "DAN validation: 100%|██████████| 8/8 [00:00<00:00, 20.93it/s]"
          ]
        },
        {
          "output_type": "stream",
          "name": "stdout",
          "text": [
            "Epoch 12 finished.\n",
            "Train loss: 0.9188892225313453, Train F1: 0.6797792031310431\n",
            "Validation loss: 0.9470267742872238 Validation F1: 0.6392806678700201\n",
            "\n"
          ]
        },
        {
          "output_type": "stream",
          "name": "stderr",
          "text": [
            "\n"
          ]
        }
      ]
    },
    {
      "cell_type": "markdown",
      "metadata": {
        "id": "idICKfmlqSJF"
      },
      "source": [
        "#### Testing"
      ],
      "id": "idICKfmlqSJF"
    },
    {
      "cell_type": "markdown",
      "metadata": {
        "id": "9kN6uxIPq5zq"
      },
      "source": [
        "По валидации видно, что модель начала немножко переобучаться. Посмотрим на результат, полученный на тестовых данных"
      ],
      "id": "9kN6uxIPq5zq"
    },
    {
      "cell_type": "code",
      "metadata": {
        "colab": {
          "base_uri": "https://localhost:8080/",
          "height": 304
        },
        "id": "HfkJz2yFrFSh",
        "outputId": "7d1ef91d-12ee-4e43-ca06-cb23445b210d"
      },
      "source": [
        "plt.plot(np.arange(len(losses_train)), losses_train, label='Training')\n",
        "plt.plot(np.arange(len(losses_eval)), losses_eval, label='Validation')\n",
        "plt.xlabel('Epochs', fontsize=15)\n",
        "plt.ylabel('Loss', fontsize=15)"
      ],
      "id": "HfkJz2yFrFSh",
      "execution_count": 114,
      "outputs": [
        {
          "output_type": "execute_result",
          "data": {
            "text/plain": [
              "Text(0, 0.5, 'Loss')"
            ]
          },
          "metadata": {},
          "execution_count": 114
        },
        {
          "output_type": "display_data",
          "data": {
            "image/png": "[encoded data removed]",
            "text/plain": [
              "<Figure size 432x288 with 1 Axes>"
            ]
          },
          "metadata": {
            "needs_background": "light"
          }
        }
      ]
    },
    {
      "cell_type": "code",
      "metadata": {
        "colab": {
          "base_uri": "https://localhost:8080/",
          "height": 301
        },
        "id": "9QRrxCNBsUod",
        "outputId": "e4a7b21e-da3e-4ff1-af5e-c018ac077f1f"
      },
      "source": [
        "plt.plot(np.arange(len(f1_train)), f1_train, label='Training', ls='dotted')\n",
        "plt.plot(np.arange(len(f1_eval)), f1_eval, label='Validation', ls='dotted')\n",
        "plt.xlabel('Epochs', fontsize=15)\n",
        "plt.ylabel('F1 (weighted)', fontsize=15)"
      ],
      "id": "9QRrxCNBsUod",
      "execution_count": 115,
      "outputs": [
        {
          "output_type": "execute_result",
          "data": {
            "text/plain": [
              "Text(0, 0.5, 'F1 (weighted)')"
            ]
          },
          "metadata": {},
          "execution_count": 115
        },
        {
          "output_type": "display_data",
          "data": {
            "image/png": "[encoded data removed]",
            "text/plain": [
              "<Figure size 432x288 with 1 Axes>"
            ]
          },
          "metadata": {
            "needs_background": "light"
          }
        }
      ]
    },
    {
      "cell_type": "code",
      "metadata": {
        "id": "0wZwh4PexXu7"
      },
      "source": [
        "# копипаст evaluate, но возвращает другие данные\n",
        "def get_ys(model, data, loss_func):\n",
        "    ys = {\n",
        "        \"y_hat\": [],\n",
        "        \"y_true\": []\n",
        "    }\n",
        "    total = len(data)\n",
        "    with torch.no_grad():\n",
        "        for (x, y) in data:\n",
        "                text, golden_label = x, y\n",
        "                y_pred = model(text.to(device)).squeeze()\n",
        "\n",
        "                ys['y_true'].extend(golden_label.tolist())\n",
        "                ys['y_hat'].extend(y_pred.detach().cpu().numpy().argmax(1).tolist())\n",
        "    return ys['y_hat'], ys['y_true']"
      ],
      "id": "0wZwh4PexXu7",
      "execution_count": 116,
      "outputs": []
    },
    {
      "cell_type": "code",
      "metadata": {
        "colab": {
          "base_uri": "https://localhost:8080/"
        },
        "id": "J_4SSAWzqrJ1",
        "outputId": "763786e1-2149-431a-94a1-cb3c55c37e20"
      },
      "source": [
        "from sklearn.metrics import classification_report\n",
        "y_hat, y_true = get_ys(model, test_loader, loss_func)\n",
        "print(classification_report(y_true, y_hat))"
      ],
      "id": "J_4SSAWzqrJ1",
      "execution_count": 117,
      "outputs": [
        {
          "output_type": "stream",
          "name": "stderr",
          "text": [
            "/usr/local/lib/python3.7/dist-packages/ipykernel_launcher.py:45: UserWarning: Implicit dimension choice for softmax has been deprecated. Change the call to include dim=X as an argument.\n"
          ]
        },
        {
          "output_type": "stream",
          "name": "stdout",
          "text": [
            "              precision    recall  f1-score   support\n",
            "\n",
            "           0       0.00      0.00      0.00      3972\n",
            "           1       0.55      0.79      0.65      5937\n",
            "           2       0.40      0.62      0.48      2375\n",
            "\n",
            "    accuracy                           0.50     12284\n",
            "   macro avg       0.31      0.47      0.38     12284\n",
            "weighted avg       0.34      0.50      0.41     12284\n",
            "\n"
          ]
        },
        {
          "output_type": "stream",
          "name": "stderr",
          "text": [
            "/usr/local/lib/python3.7/dist-packages/sklearn/metrics/_classification.py:1308: UndefinedMetricWarning: Precision and F-score are ill-defined and being set to 0.0 in labels with no predicted samples. Use `zero_division` parameter to control this behavior.\n",
            "  _warn_prf(average, modifier, msg_start, len(result))\n",
            "/usr/local/lib/python3.7/dist-packages/sklearn/metrics/_classification.py:1308: UndefinedMetricWarning: Precision and F-score are ill-defined and being set to 0.0 in labels with no predicted samples. Use `zero_division` parameter to control this behavior.\n",
            "  _warn_prf(average, modifier, msg_start, len(result))\n",
            "/usr/local/lib/python3.7/dist-packages/sklearn/metrics/_classification.py:1308: UndefinedMetricWarning: Precision and F-score are ill-defined and being set to 0.0 in labels with no predicted samples. Use `zero_division` parameter to control this behavior.\n",
            "  _warn_prf(average, modifier, msg_start, len(result))\n"
          ]
        }
      ]
    },
    {
      "cell_type": "markdown",
      "metadata": {
        "id": "87583e79"
      },
      "source": [
        "# Выводы\n",
        "Напишите небольшой отчет о проделанной работе. Что удалось, в чем не уверены, что делать дальше."
      ],
      "id": "87583e79"
    },
    {
      "cell_type": "markdown",
      "metadata": {
        "id": "c3ad7f80"
      },
      "source": [
        "Модель обучилась не очень хорошо :(\n",
        "\n",
        "Что удалось - реализовать простой перцептрон, направленный на мультиклассовую классификацию. Честно говоря, я не уверен, что тело модели реализовано абсолютно верно. Больше всего меня смущает то, что если я не использую `from_pretrained` относительно fasttext эмбеддингов в теле модели, а просто объявляю объект типа torch.nn.Embedding нужной размерности, модель всё равно обучается и обучается **лучше, чем при подаче предобученных эмбеддингов**. Разница в weighted f1 примерно 0,1. Как это вообще происходит?\n",
        "\n",
        " Но судя по тому, что на тренировочных данных достаточно быстро снижается loss, модель действительно обучается, но при этом быстро приходит к оверфиттингу относительно тренировочных данных. \n",
        "\n",
        "Улучить результат классификации можно было бы:\n",
        "- Более тщательным тюнингом гиперпараметров (я попробовал 2-3 варианта hidden_size и lr, но не удалось добиться результата хотя бы в районе 0.7 f1-score)\n",
        "- Усложнение классификатора в модели - добавление дропаута, экспериементы с методами пулинга, увеличение числа линейных слоёв, а лучше даже добавить нелинейные слои.\n",
        "- и много чего ещё. Поскольку модель совсем базовая, в ней можно улучшчить ещё много чего\n",
        "\n",
        "\n",
        "\n"
      ],
      "id": "c3ad7f80"
    }
  ]
}